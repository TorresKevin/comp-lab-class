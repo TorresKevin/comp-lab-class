{
 "cells": [
  {
   "cell_type": "code",
   "execution_count": 1,
   "metadata": {},
   "outputs": [],
   "source": [
    "import pandas as pd\n",
    "from matplotlib import pyplot as plt\n",
    "import mdtraj as md\n",
    "import numpy as np"
   ]
  },
  {
   "cell_type": "code",
   "execution_count": 25,
   "metadata": {},
   "outputs": [
    {
     "data": {
      "text/plain": [
       "('alpha_Backbone',\n",
       " [1.2934014797210693],\n",
       " 'Colab_backbone',\n",
       " [0.16840030252933502])"
      ]
     },
     "execution_count": 25,
     "metadata": {},
     "output_type": "execute_result"
    }
   ],
   "source": [
    "crystal = md.load('1ubq.pdb')\n",
    "Alphafold_result = md.load(r'rcsb_pdb_1UBQ/ranked_0.pdb')\n",
    "Colabfold_result = md.load('UBIQUITIN_ddead_unrelaxed_rank_1_model_4.pdb')\n",
    "\n",
    "crystal_backbone = crystal.top.select(\"backbone\")\n",
    "Alpha_backbone = md.rmsd(Alphafold_result, crystal, 0, atom_indices=crystal_backbone)\n",
    "Alpha_backbone = Alpha_backbone.tolist()\n",
    "Colab_backbone = md.rmsd(Colabfold_result, crystal, 0, atom_indices=crystal_backbone)\n",
    "Colab_backbone = Colab_backbone.tolist()\n",
    "\n",
    "\"alpha_Backbone\", Alpha_backbone, \"Colab_backbone\", Colab_backbone"
   ]
  },
  {
   "cell_type": "code",
   "execution_count": 29,
   "metadata": {},
   "outputs": [
    {
     "data": {
      "text/plain": [
       "('alpha_sidechain',\n",
       " [1.3016877174377441],\n",
       " 'Colab_sidechain',\n",
       " [0.24503207206726074])"
      ]
     },
     "execution_count": 29,
     "metadata": {},
     "output_type": "execute_result"
    }
   ],
   "source": [
    "crystal_sidechain = crystal.top.select(\"sidechain\")\n",
    "Colab_sidechain_index = Colabfold_result.top.select(\"sidechain\")\n",
    "Alpha_sidechain = md.rmsd(Alphafold_result, crystal, 0, atom_indices=crystal_sidechain)\n",
    "Alpha_sidechain = Alpha_sidechain.tolist()\n",
    "Colab_sidechain = md.rmsd(Colabfold_result, crystal, 0, atom_indices=Colab_sidechain_index)\n",
    "Colab_sidechain = Colab_sidechain.tolist()\n",
    "\"alpha_sidechain\", Alpha_sidechain, \"Colab_sidechain\", Colab_sidechain"
   ]
  },
  {
   "cell_type": "code",
   "execution_count": 33,
   "metadata": {},
   "outputs": [
    {
     "data": {
      "text/plain": [
       "('Alpha_alpha', [1.30898118019104], 'Colab_alpha', [0.08447302877902985])"
      ]
     },
     "execution_count": 33,
     "metadata": {},
     "output_type": "execute_result"
    }
   ],
   "source": [
    "Alpha_crystal = crystal.top.select(\"name CA\")\n",
    "Alpha_alpha = md.rmsd(Alphafold_result, crystal, 0, atom_indices=Alpha_crystal)\n",
    "Alpha_alpha = Alpha_alpha.tolist()\n",
    "Colab_alpha = md.rmsd(Colabfold_result, crystal, 0, atom_indices=Alpha_crystal)\n",
    "Colab_alpha = Colab_alpha.tolist()\n",
    "\"Alpha_alpha\", Alpha_alpha, \"Colab_alpha\", Colab_alpha"
   ]
  },
  {
   "cell_type": "code",
   "execution_count": 41,
   "metadata": {},
   "outputs": [
    {
     "data": {
      "image/png": "[encoded data removed]",
      "text/plain": [
       "<Figure size 432x288 with 1 Axes>"
      ]
     },
     "metadata": {
      "needs_background": "light"
     },
     "output_type": "display_data"
    }
   ],
   "source": [
    "x_axis_name = ['backbone', 'sidechain', 'alpha-carbon']\n",
    "x_axis = np.arange(len(x_axis_name))\n",
    "y_alpha = Alpha_backbone + Alpha_sidechain + Alpha_alphaC\n",
    "y_alpha = list(np.around(np.array(y_alpha), 4))\n",
    "plt.bar(x_axis - 0.1, y_alpha, width = 0.2, label = 'AlphaFold')\n",
    "\n",
    "for x,y in zip(x_axis - 0.1, y_alpha):\n",
    "    label = \"{}\".format(y)\n",
    "    \n",
    "    plt.annotate(label,\n",
    "                 (x,y),\n",
    "                 textcoords=\"offset points\",\n",
    "                 xytext=(0,5),\n",
    "                 ha='center',\n",
    "                 fontsize=7)\n",
    "\n",
    "y_colab = Colab_backbone + Colab_sidechain + Colab_alphaC\n",
    "y_colab = list(np.around(np\n",
    "                         .array(y_colab), 4))\n",
    "plt.bar(x_axis + 0.1, y_colab, width = 0.2, label = 'ColabFold')\n",
    "\n",
    "for x,y in zip(x_axis + 0.1, y_colab):\n",
    "    label = \"{}\".format(y)\n",
    "    \n",
    "    plt.annotate(label,\n",
    "                 (x,y),\n",
    "                 textcoords=\"offset points\",\n",
    "                 xytext=(0,5),\n",
    "                 ha='center',\n",
    "                 fontsize=7)\n",
    "\n",
    "plt.xticks(x_axis, x_axis_name)\n",
    "plt.ylim(0, 2)\n",
    "plt.legend()\n",
    "plt.title('AlphaFold & ColabFold vs Crystal (RMSD)')\n",
    "plt.show()"
   ]
  },
  {
   "cell_type": "code",
   "execution_count": null,
   "metadata": {},
   "outputs": [],
   "source": []
  }
 ],
 "metadata": {
  "kernelspec": {
   "display_name": "Python 3",
   "language": "python",
   "name": "python3"
  },
  "language_info": {
   "codemirror_mode": {
    "name": "ipython",
    "version": 3
   },
   "file_extension": ".py",
   "mimetype": "text/x-python",
   "name": "python",
   "nbconvert_exporter": "python",
   "pygments_lexer": "ipython3",
   "version": "3.8.6"
  }
 },
 "nbformat": 4,
 "nbformat_minor": 4
}
