{
 "cells": [
  {
   "cell_type": "code",
   "execution_count": 52,
   "metadata": {},
   "outputs": [
    {
     "name": "stdout",
     "output_type": "stream",
     "text": [
      "CPU times: user 197 µs, sys: 11 µs, total: 208 µs\n",
      "Wall time: 831 µs\n"
     ]
    }
   ],
   "source": [
    "%%time\n",
    "import psi4\n",
    "import numpy as np\n",
    "psi4.core.set_output_file('output.dat', False)\n",
    "\n"
   ]
  },
  {
   "cell_type": "code",
   "execution_count": 53,
   "metadata": {},
   "outputs": [
    {
     "name": "stdout",
     "output_type": "stream",
     "text": [
      "CPU times: user 283 ms, sys: 7 ms, total: 290 ms\n",
      "Wall time: 297 ms\n"
     ]
    },
    {
     "data": {
      "text/plain": [
       "-76.02663273509017"
      ]
     },
     "execution_count": 53,
     "metadata": {},
     "output_type": "execute_result"
    }
   ],
   "source": [
    "%%time\n",
    "#! Sample HF/cc-pVDZ H2O Computation\n",
    "psi4.set_memory('500 MB')\n",
    "\n",
    "h2o = psi4.geometry(\"\"\"\n",
    "O\n",
    "H 1 0.96\n",
    "H 1 0.96 2 104.5\n",
    "\"\"\")\n",
    "\n",
    "psi4.energy('scf/cc-pvdz')\n"
   ]
  },
  {
   "cell_type": "code",
   "execution_count": 54,
   "metadata": {},
   "outputs": [
    {
     "name": "stdout",
     "output_type": "stream",
     "text": [
      "CPU times: user 276 ms, sys: 4.68 ms, total: 280 ms\n",
      "Wall time: 284 ms\n"
     ]
    },
    {
     "data": {
      "text/plain": [
       "-38.925334628937065"
      ]
     },
     "execution_count": 54,
     "metadata": {},
     "output_type": "execute_result"
    }
   ],
   "source": [
    "%%time\n",
    "#! Sample UHF/6-31G** CH2 Computation\n",
    "\n",
    "R = 1.075\n",
    "A = 133.93\n",
    "\n",
    "ch2 = psi4.geometry(\"\"\"\n",
    "0 3\n",
    "C\n",
    "H 1 {0}\n",
    "H 1 {0} 2 {1}\n",
    "\"\"\".format(R, A)\n",
    ")\n",
    "\n",
    "psi4.set_options({'reference': 'uhf'})\n",
    "psi4.energy('scf/6-31g**')"
   ]
  },
  {
   "cell_type": "code",
   "execution_count": 55,
   "metadata": {},
   "outputs": [
    {
     "name": "stdout",
     "output_type": "stream",
     "text": [
      "Optimizer: Optimization complete!\n",
      "CPU times: user 1.78 s, sys: 31.5 ms, total: 1.81 s\n",
      "Wall time: 1.83 s\n"
     ]
    }
   ],
   "source": [
    "%%time\n",
    "psi4.set_options({'reference': 'rhf'})\n",
    "psi4.optimize('scf/cc-pvdz', molecule=h2o)\n",
    "\n",
    "scf_e, scf_wfn = psi4.frequency('scf/cc-pvdz', molecule=h2o, return_wfn=True)"
   ]
  },
  {
   "cell_type": "code",
   "execution_count": 56,
   "metadata": {},
   "outputs": [
    {
     "name": "stdout",
     "output_type": "stream",
     "text": [
      "CPU times: user 3.83 s, sys: 255 ms, total: 4.08 s\n",
      "Wall time: 4.17 s\n"
     ]
    },
    {
     "data": {
      "text/plain": [
       "-0.0022355823909805178"
      ]
     },
     "execution_count": 56,
     "metadata": {},
     "output_type": "execute_result"
    }
   ],
   "source": [
    "%%time\n",
    "# Example SAPT computation for ethene*ethyne (*i.e.*, ethylene*acetylene).\n",
    "# Test case 16 from S22 Database\n",
    "\n",
    "dimer = psi4.geometry(\"\"\"\n",
    "0 1\n",
    "C   0.000000  -0.667578  -2.124659\n",
    "C   0.000000   0.667578  -2.124659\n",
    "H   0.923621  -1.232253  -2.126185\n",
    "H  -0.923621  -1.232253  -2.126185\n",
    "H  -0.923621   1.232253  -2.126185\n",
    "H   0.923621   1.232253  -2.126185\n",
    "--\n",
    "0 1\n",
    "C   0.000000   0.000000   2.900503\n",
    "C   0.000000   0.000000   1.693240\n",
    "H   0.000000   0.000000   0.627352\n",
    "H   0.000000   0.000000   3.963929\n",
    "units angstrom\n",
    "\"\"\")\n",
    "\n",
    "psi4.set_options({'scf_type': 'df',\n",
    "                  'freeze_core': 'true'})\n",
    "\n",
    "psi4.energy('sapt0/jun-cc-pvdz', molecule=dimer)"
   ]
  },
  {
   "cell_type": "code",
   "execution_count": 57,
   "metadata": {},
   "outputs": [
    {
     "name": "stdout",
     "output_type": "stream",
     "text": [
      "CP-corrected CCSD(T)/aug-cc-pVDZ Interaction Energies\n",
      "\n",
      "\n",
      "          R [Ang]                 E_int [kcal/mol]       \n",
      "---------------------------------------------------------\n",
      "            2.5                        0.758605\n",
      "            3.0                        0.015968\n",
      "            4.0                        -0.016215\n",
      "CPU times: user 5.33 s, sys: 1.53 s, total: 6.86 s\n",
      "Wall time: 7.44 s\n"
     ]
    }
   ],
   "source": [
    "%%time\n",
    "#! Example potential energy surface scan and CP-correction for Ne2\n",
    "ne2_geometry = \"\"\"\n",
    "Ne\n",
    "--\n",
    "Ne 1 {0}\n",
    "\"\"\"\n",
    "\n",
    "Rvals = [2.5, 3.0, 4.0]\n",
    "\n",
    "psi4.set_options({'freeze_core': 'true'})\n",
    "\n",
    "# Initialize a blank dictionary of counterpoise corrected energies\n",
    "# (Need this for the syntax below to work)\n",
    "\n",
    "ecp = {}\n",
    "\n",
    "for R in Rvals:\n",
    "    ne2 = psi4.geometry(ne2_geometry.format(R))\n",
    "    ecp[R] = psi4.energy('ccsd(t)/aug-cc-pvdz', bsse_type='cp', molecule=ne2)\n",
    "\n",
    "# Prints to screen\n",
    "print(\"CP-corrected CCSD(T)/aug-cc-pVDZ Interaction Energies\\n\\n\")\n",
    "print(\"          R [Ang]                 E_int [kcal/mol]       \")\n",
    "print(\"---------------------------------------------------------\")\n",
    "for R in Rvals:\n",
    "    e = ecp[R] * psi4.constants.hartree2kcalmol\n",
    "    print(\"            {:3.1f}                        {:1.6f}\".format(R, e))\n",
    "\n",
    "# Prints to output.dat\n",
    "psi4.core.print_out(\"CP-corrected CCSD(T)/aug-cc-pVDZ Interaction Energies\\n\\n\")\n",
    "psi4.core.print_out(\"          R [Ang]                 E_int [kcal/mol]       \\n\")\n",
    "psi4.core.print_out(\"---------------------------------------------------------\\n\")\n",
    "for R in Rvals:\n",
    "    e = ecp[R] * psi4.constants.hartree2kcalmol\n",
    "    psi4.core.print_out(\"            {:3.1f}                        {:1.6f}\\n\".format(R, e))\n",
    "    \n"
   ]
  },
  {
   "cell_type": "code",
   "execution_count": 59,
   "metadata": {},
   "outputs": [
    {
     "name": "stdout",
     "output_type": "stream",
     "text": [
      "CP-corrected CCSD(T)/aug-cc-pVDZ Interaction Energies\n",
      "\n",
      "\n",
      "          R [Ang]                 E_int [kcal/mol]       \n",
      "---------------------------------------------------------\n",
      "            3.5                        0.169820\n",
      "            3.6                        0.037518\n",
      "            3.7                        -0.042931\n",
      "            3.8                        -0.089134\n",
      "            3.9                        -0.113090\n",
      "            4.0                        -0.122889\n",
      "            4.1                        -0.123921\n",
      "            4.2                        -0.119738\n",
      "            4.3                        -0.112652\n",
      "            4.4                        -0.104146\n",
      "            4.5                        -0.095152\n",
      "            4.6                        -0.086236\n",
      "            4.7                        -0.077730\n",
      "            4.8                        -0.069808\n",
      "            4.9                        -0.062548\n",
      "            5.0                        -0.055968\n",
      "            5.1                        -0.050049\n",
      "            5.2                        -0.044753\n",
      "            5.3                        -0.040030\n",
      "            5.4                        -0.035830\n",
      "            5.5                        -0.032099\n",
      "            5.6                        -0.028789\n",
      "            5.7                        -0.025853\n",
      "            5.8                        -0.023248\n",
      "            5.9                        -0.020936\n",
      "CPU times: user 2min 27s, sys: 18.5 s, total: 2min 45s\n",
      "Wall time: 2min 50s\n"
     ]
    }
   ],
   "source": [
    "%%time\n",
    "#! Example potential energy surface scan and CP-correction for Ar2\n",
    "Ar2_geometry = \"\"\"\n",
    "Ar\n",
    "--\n",
    "Ar 1 {0}\n",
    "\"\"\"\n",
    "\n",
    "Rvals = np.arange(3.5, 6.0, 0.1)\n",
    "\n",
    "psi4.set_options({'freeze_core': 'true'})\n",
    "\n",
    "# Initialize a blank dictionary of counterpoise corrected energies\n",
    "# (Need this for the syntax below to work)\n",
    "\n",
    "ecp = {}\n",
    "\n",
    "for R in Rvals:\n",
    "    Ar2 = psi4.geometry(Ar2_geometry.format(R))\n",
    "    ecp[R] = psi4.energy('ccsd(t)/aug-cc-pvdz', bsse_type='cp', molecule=Ar2)\n",
    "\n",
    "# Prints to screen\n",
    "print(\"CP-corrected CCSD(T)/aug-cc-pVDZ Interaction Energies\\n\\n\")\n",
    "print(\"          R [Ang]                 E_int [kcal/mol]       \")\n",
    "print(\"---------------------------------------------------------\")\n",
    "for R in Rvals:\n",
    "    e = ecp[R] * psi4.constants.hartree2kcalmol\n",
    "    print(\"            {:3.1f}                        {:1.6f}\".format(R, e))\n",
    "\n",
    "# Prints to output.dat\n",
    "psi4.core.print_out(\"CP-corrected CCSD(T)/aug-cc-pVDZ Interaction Energies\\n\\n\")\n",
    "psi4.core.print_out(\"          R [Ang]                 E_int [kcal/mol]       \\n\")\n",
    "psi4.core.print_out(\"---------------------------------------------------------\\n\")\n",
    "for R in Rvals:\n",
    "    e = ecp[R] * psi4.constants.hartree2kcalmol\n",
    "    psi4.core.print_out(\"            {:3.1f}                        {:1.6f}\\n\".format(R, e))\n",
    "    "
   ]
  },
  {
   "cell_type": "code",
   "execution_count": 89,
   "metadata": {},
   "outputs": [
    {
     "data": {
      "image/png": "[encoded data removed]",
      "text/plain": [
       "<Figure size 640x480 with 1 Axes>"
      ]
     },
     "metadata": {},
     "output_type": "display_data"
    }
   ],
   "source": [
    "\n",
    "import numpy as np\n",
    "import matplotlib.pyplot as plt\n",
    "from scipy.optimize import curve_fit\n",
    "\n",
    "\n",
    "# define lennard jones potential\n",
    "def lj(r, eps, sig):\n",
    "    return 4*eps*((sig/r)**12 - (sig/r)**6)\n",
    "\n",
    "#define the data to be fit with some noise\n",
    "xdata = Rvals\n",
    "y = np.array([ecp[R] for R in Rvals])\n",
    "ydata = y * psi4.constants.hartree2kcalmol\n",
    "yerr = 0.2 * np.random.normal(size=xdata.size)\n",
    "\n",
    "# fit the data\n",
    "popt, pcov = curve_fit(lj, xdata, ydata, sigma=yerr)\n",
    "\n",
    "# plot the data and the best fit\n",
    "plt.plot(xdata, ydata, 'b--', label='data')\n",
    "plt.plot(xdata, lj(xdata, *popt), 'r-', label='fit')\n",
    "plt.title('Ar2 Energy vs Distance')\n",
    "plt.xlabel('R [Ang]')\n",
    "plt.ylabel('E_int [kcal/mol]')\n",
    "plt.legend()\n",
    "\n",
    "plt.show()"
   ]
  },
  {
   "cell_type": "code",
   "execution_count": null,
   "metadata": {},
   "outputs": [],
   "source": []
  }
 ],
 "metadata": {
  "kernelspec": {
   "display_name": "lab_env",
   "language": "python",
   "name": "lab_env"
  },
  "language_info": {
   "codemirror_mode": {
    "name": "ipython",
    "version": 3
   },
   "file_extension": ".py",
   "mimetype": "text/x-python",
   "name": "python",
   "nbconvert_exporter": "python",
   "pygments_lexer": "ipython3",
   "version": "3.9.12"
  }
 },
 "nbformat": 4,
 "nbformat_minor": 4
}
